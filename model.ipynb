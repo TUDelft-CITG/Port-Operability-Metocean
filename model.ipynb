{
 "cells": [
  {
   "cell_type": "code",
   "execution_count": 1,
   "metadata": {},
   "outputs": [],
   "source": [
    "import pandas as pd\n",
    "import xarray as xr\n",
    "import numpy as np\n",
    "import math\n",
    "from sklearn.neighbors import BallTree as BallTree\n",
    "import matplotlib.pyplot as plt"
   ]
  },
  {
   "cell_type": "code",
   "execution_count": 2,
   "metadata": {},
   "outputs": [],
   "source": [
    "bath = xr.open_dataset(r'c:\\Users\\wiegel\\OneDrive - Stichting Deltares\\Documents\\input\\ERA5_metOcean_bathy.nc')\n",
    "depthNS = 20\n",
    "shp_coast2 = pd.read_excel(r'c:\\Users\\wiegel\\OneDrive - Stichting Deltares\\Documents\\input\\Continental shapefile coordinates2.xlsx')\n",
    "ERA5_on_coast = pd.read_excel(r'c:\\Users\\wiegel\\OneDrive - Stichting Deltares\\Documents\\input\\ERA5_locs_on_coast_fin.xlsx')\n",
    "ERA5_around_coast = pd.read_excel(r'c:\\Users\\wiegel\\OneDrive - Stichting Deltares\\Documents\\input\\ERA5_coordinates_around_coast_fin.xlsx')\n",
    "X1 = ERA5_on_coast.iloc[:,0]; Y1 = ERA5_on_coast.iloc[:,1]\n",
    "X2 = ERA5_around_coast.iloc[:,0]; Y2 = ERA5_around_coast.iloc[:,1]\n",
    "lfhs20 = pd.read_excel(r'c:\\Users\\wiegel\\OneDrive - Stichting Deltares\\Documents\\input\\lf_waveheight_lookuptable_d20.xlsx',header=None)\n",
    "lftm20 = pd.read_excel(r'c:\\Users\\wiegel\\OneDrive - Stichting Deltares\\Documents\\input\\lf_waveperiod_lookuptable_d20.xlsx',header=None)\n",
    "pi = math.pi\n",
    "grav = 9.81\n",
    "seasons = np.array(['DJF', 'MAM', 'JJA', 'SON'])"
   ]
  },
  {
   "cell_type": "code",
   "execution_count": 3,
   "metadata": {},
   "outputs": [],
   "source": [
    "cols = ['lon', 'lat', 'depth0','shoreN','tm','tp','Ks','Kr','wind50','wind95','windAv','swh50','swh95','swhAv','ig50','ig95','igAv','wavePo','windAvUp','swhAvUp','igAvUp','operability','frequency','duration']\n",
    "df = pd.DataFrame(columns = cols, index=range(0,4560))"
   ]
  },
  {
   "cell_type": "code",
   "execution_count": 4,
   "metadata": {},
   "outputs": [],
   "source": [
    "# THRESHOLDS\n",
    "Twind = 13.8\n",
    "Twave = 2.0\n",
    "Tig = 0.05"
   ]
  },
  {
   "cell_type": "code",
   "execution_count": 5,
   "metadata": {},
   "outputs": [
    {
     "name": "stdout",
     "output_type": "stream",
     "text": [
      "1100\n"
     ]
    }
   ],
   "source": [
    "for i in range(1100,1101): #(0,4560)\n",
    "    print(i)\n",
    "    # LOAD ERA5 DATA\n",
    "    ds = xr.open_dataset(r'c:\\Users\\wiegel\\OneDrive - Stichting Deltares\\Documents\\input\\ERA5_output_world_coast\\Loc%s.nc' % i)\n",
    "    dfx = ds.to_dataframe()\n",
    "    dfx = dfx.dropna()\n",
    "    if dfx.empty: continue\n",
    "    \n",
    "    dfx['season'] = seasons[(dfx.index.month // 3) % 4]\n",
    "    df.loc[i].lon = dfx.longitude[0]\n",
    "    df.loc[i].lat = dfx.latitude[0]\n",
    "    \n",
    "    # DEPTH OFFSHORE\n",
    "    depth = bath.sel(latitude=dfx.latitude[0], longitude=dfx.longitude[0], method='nearest')\n",
    "    depth = depth.to_dataframe()\n",
    "    df['depth0'].loc[i] = depth.wmb[0]\n",
    "    if np.isnan(df.loc[i].depth0) or df.loc[i].depth0 <= depthNS: df.loc[i].depth0 = depthNS\n",
    "     \n",
    "    # SHORENORMAL ORIENTATION\n",
    "    F = np.array([df.loc[i].lon,df.loc[i].lat]).reshape(1,-1)\n",
    "    x1 = shp_coast2.iloc[:,0].tolist()\n",
    "    y1 = shp_coast2.iloc[:,1].tolist()\n",
    "    X = np.column_stack((x1,y1))\n",
    "    tree = BallTree(X, leaf_size=100)             \n",
    "    dist, ind = tree.query(F, k=1)\n",
    "    Cordmin = (X[ind-4]+X[ind-3]+X[ind-2]+X[ind-1])/4\n",
    "    Cordpls = (X[ind+4]+X[ind+3]+X[ind+2]+X[ind+1])/4\n",
    "    coastcoord = (Cordmin+Cordpls)/2\n",
    "    theta = math.atan2((df.loc[i].lon - coastcoord[0,0,0]),(df.loc[i].lat - coastcoord[0,0,1]))\n",
    "    shoreN = (theta*180/(math.pi)) % 360\n",
    "    if np.isnan(shoreN):\n",
    "        theta = math.atan2(X2[i]-X1[i],Y2[i]-Y1[i])\n",
    "        shoreN = (theta*180/(math.pi)) % 360\n",
    "    df['shoreN'].loc[i] = shoreN\n",
    "    \n",
    "    # WIND\n",
    "    wind = np.sqrt(dfx.u10**2 + dfx.v10**2); wind[-1] = 0; wind[0] = 0\n",
    "    dfx['wind'] = wind\n",
    "    df['wind50'].loc[i] = wind.quantile([0.50]).iloc[0]\n",
    "    df['wind95'].loc[i] = wind.quantile([0.95]).iloc[0]\n",
    "    df['windAv'].loc[i] = np.count_nonzero(wind < Twind)/len(wind)*100\n",
    "    idx = np.argwhere(np.diff(np.sign(Twind - wind))).flatten()\n",
    "    Events = idx.reshape(len(idx)//2,2)\n",
    "    if idx.size != 0:\n",
    "        IntervalIndex = np.column_stack((Events[:-1,1],Events[1:,0]))\n",
    "        ShortIntervalIndex = IntervalIndex[Events[1:,0]-Events[:-1,1] <= 4]\n",
    "        for n in range(0,len(ShortIntervalIndex)):\n",
    "            x = np.arange(ShortIntervalIndex[n,0]+1,ShortIntervalIndex[n,1]+1)\n",
    "            wind[x] = Twind\n",
    "        dfx.wind = wind\n",
    "        df.loc[i].windAvUp = np.count_nonzero(wind < Twind)/len(wind)*100\n",
    "    else:\n",
    "        df.loc[i].windAvUp = 100\n",
    "        \n",
    "    # NEARSHORE TRANSLATION\n",
    "    dirWave = dfx.mwd\n",
    "    waveHeight = dfx.swh    \n",
    "    wavePeriod = dfx.mwp\n",
    "    peakPeriod = dfx.pp1d\n",
    "    dirWave = dirWave * 1.\n",
    "    waveHeight = waveHeight.astype('float')\n",
    "    wavePeriod = wavePeriod * 1.\n",
    "    depthOffshore = float(df.loc[i].depth0)\n",
    "    depthNearshore = float(depthNS)\n",
    "    shoreNormal = float(shoreN % 360)\n",
    "    df.loc[i].tp = np.mean(peakPeriod)\n",
    "    \n",
    "    # WAVE LENGHT/NUMBER (DEEP & NEAR) BASED ON THE WAVE PERIOD WHICH REMAINS CONSTANT\n",
    "    # Calculation based on the Matlab function disper.m and transformed to nearshore\n",
    "    \n",
    "    w2 = (2 * pi / wavePeriod)**2 * depthOffshore / grav\n",
    "    q = w2 / ( (1 - np.exp(-(w2**(5/4))))**(2/5))\n",
    "    for j in range(2):\n",
    "        thq = np.tanh(q)\n",
    "        thq2 = 1 - thq**2\n",
    "        a = (1 - q * thq)*thq2\n",
    "        b = thq + q * thq2\n",
    "        c = q * thq - w2\n",
    "        arg = b**2 - (4*a*c)\n",
    "        arg = (-b + np.sqrt(arg)) / (2 * a)\n",
    "        iq = np.abs(a * c) < (10**-8 * b**2)\n",
    "        arg[iq] = - c[iq] / b[iq]\n",
    "        q = q + arg\n",
    "    k = q / depthOffshore\n",
    "    Ldeep = 2 * pi / k\n",
    "    \n",
    "    # Nearshore depth wave number and wave length calculation via dispersion relation\n",
    "    w3 = (2 * pi / wavePeriod)**2 * depthNearshore / grav\n",
    "    q1 = w3 / (1 - np.exp(-(w3**(5/4))))**(2/5)\n",
    "    for m in range(2):\n",
    "        thq = np.tanh(q1)\n",
    "        thq2 = 1 - thq**2\n",
    "        a = (1 - q1 * thq)*thq2\n",
    "        b = thq + q1 *thq2\n",
    "        c = q1 * thq - w3\n",
    "        arg = b**2 - (4*a*c)\n",
    "        arg = (-b + np.sqrt(arg)) / (2 * a)\n",
    "        iq = np.abs(a * c) < (10**-8 * b**2)\n",
    "        arg[iq] = - c[iq] / b[iq]\n",
    "        q1 = q1 + arg\n",
    "    k1 = q1 / depthNearshore\n",
    "    Lnear = 2 * pi / k1\n",
    "  \n",
    "    # Calculate the waveVelocity (deep and near)\n",
    "    Cdeep = ((grav/k) * np.tanh(k * depthOffshore))**0.5\n",
    "    Cnear = ((grav/k1) * np.tanh(k1 * depthNearshore))**0.5\n",
    "    \n",
    "    # Calculate the wave-angle of the point offshore\n",
    "    relDir = (dirWave - shoreNormal + 180.) % 360. - 180.\n",
    "    SinThetadeep = np.sin(relDir * (pi/180.))\n",
    "    \n",
    "    # Calculate the wave-angle of the point near the coast\n",
    "    SinThetanear = (SinThetadeep / Cdeep) * Cnear\n",
    "    relDirnear = np.arcsin(SinThetanear) * (180./pi)\n",
    "    \n",
    "    # Refraction coefficient\n",
    "    Kr = (np.cos(relDir * (pi/180.)) / np.cos(relDirnear * (pi/180.)))**0.5\n",
    "    Kr[(Kr < 0.8)] = 0.8\n",
    "    df.loc[i].Kr = np.mean(Kr)\n",
    "    \n",
    "    # Calculate group wave velocities\n",
    "    waveNumberdeep = 2*pi / Ldeep\n",
    "    if depthOffshore/Ldeep.any() > 0.5: ndeep = 0.5\n",
    "    else: ndeep = 0.5 * (1 + (2 * waveNumberdeep * depthOffshore) / np.sinh(2 * waveNumberdeep * depthOffshore))\n",
    "    waveVelocitydeep = ( (grav*Ldeep / (2*pi)) * np.tanh(2*pi * depthOffshore / Ldeep) )**0.5\n",
    "    Cgroupdeep = ndeep * waveVelocitydeep\n",
    "    waveNumbernear = 2*pi / Lnear\n",
    "    nnear = 0.5 * (1 + (2 * waveNumbernear * depthNearshore) / np.sinh(2 * waveNumbernear * depthNearshore))\n",
    "    waveVelocitynear = ( (grav*Lnear / (2*pi)) * np.tanh(2*pi * depthNearshore / Lnear) )**0.5\n",
    "    Cgroupnear = nnear * waveVelocitynear\n",
    "    \n",
    "    # Shoaling coefficient:\n",
    "    Ks = (Cgroupdeep / Cgroupnear) ** 0.5\n",
    "    df.loc[i].Ks = np.mean(Ks)\n",
    "    \n",
    "    # Wave-climate of the near shore\n",
    "    waveHeightnearAlldir = Ks * waveHeight\n",
    "    waveHeightnearAlldir[waveHeightnearAlldir > (depthNearshore*0.73)] = depthNearshore*0.73\n",
    "    dfx['swh_nr_ad'] = waveHeightnearAlldir\n",
    "    waveHeightnearReldir = Kr * Ks * waveHeight\n",
    "    waveHeightnearReldir[waveHeightnearReldir > (depthNearshore*0.73)] = depthNearshore*0.73\n",
    "    dfx['swh_nr_rd'] = waveHeightnearReldir\n",
    "    wavePeriodnear = wavePeriod * 1.\n",
    "    df.loc[i].tm = np.mean(wavePeriodnear)\n",
    "    ixD = ~((-90 < relDir) & (relDir < 90))\n",
    "    waveHeightnearReldir[ixD] = float('NaN')\n",
    "    waveHeightnearReldir[ixD] = float('NaN')\n",
    "    relDirnear[ixD] = relDir[ixD]\n",
    "    df['swh50'].loc[i] = waveHeightnearReldir.quantile([0.5]).iloc[0]\n",
    "    df['swh95'].loc[i] = waveHeightnearReldir.quantile([0.95]).iloc[0]\n",
    "    waveHeightnearReldir = waveHeightnearReldir.fillna(0)\n",
    "    df['swhAv'].loc[i] = np.count_nonzero(waveHeightnearReldir < Twave)/len(waveHeightnearReldir)*100\n",
    "    waveHeightnearReldir[-1] = 0; waveHeightnearReldir[0] = 0\n",
    "    idx = np.argwhere(np.diff(np.sign(Twave - waveHeightnearReldir))).flatten()\n",
    "    Events = idx.reshape(len(idx)//2,2)\n",
    "    if idx.size != 0:\n",
    "        IntervalIndex = np.column_stack((Events[:-1,1],Events[1:,0]))\n",
    "        ShortIntervalIndex = IntervalIndex[Events[1:,0]-Events[:-1,1] <= 4]\n",
    "        for n in range(0,len(ShortIntervalIndex)):\n",
    "            x = np.arange(ShortIntervalIndex[n,0]+1,ShortIntervalIndex[n,1]+1)\n",
    "            waveHeightnearReldir[x] = Twave\n",
    "        dfx.swh_nr_rd = waveHeightnearReldir\n",
    "        df.loc[i].swhAvUp = np.count_nonzero(waveHeightnearReldir < Twave)/len(waveHeightnearReldir)*100\n",
    "    else:\n",
    "        df.loc[i].swhAvUp = 100\n",
    "   \n",
    "    # Infragravity (bound) waves nearshore\n",
    "    idhs = (dfx.swh_nr_ad * 20).round().astype(int)\n",
    "    idhs[idhs > 249]=249\n",
    "    idtp = (peakPeriod * 10).round().astype(int)\n",
    "    idtp[idtp > 249]=249\n",
    "    lfhs = np.array(lfhs20)\n",
    "    lftm = np.array(lftm20)\n",
    "    lfhs = lfhs[idhs,idtp]\n",
    "    lftm = lftm[idhs,idtp]\n",
    "    lfhs[-1] = 0; lfhs[0] = 0\n",
    "    dfx['lfhs'] = lfhs\n",
    "    dfx['lftm'] = lftm\n",
    "    df['ig50'].loc[i] = dfx.lfhs.quantile([0.50]).iloc[0]\n",
    "    df['ig95'].loc[i] = dfx.lfhs.quantile([0.95]).iloc[0]\n",
    "    df['igAv'].loc[i] = np.count_nonzero(lfhs < Tig)/len(lfhs)*100\n",
    "    idx = np.argwhere(np.diff(np.sign(Tig - lfhs))).flatten()\n",
    "    Events = idx.reshape(len(idx)//2,2)\n",
    "    if idx.size != 0:\n",
    "        IntervalIndex = np.column_stack((Events[:-1,1],Events[1:,0]))\n",
    "        ShortIntervalIndex = IntervalIndex[Events[1:,0]-Events[:-1,1] <= 4]\n",
    "        for n in range(0,len(ShortIntervalIndex)):\n",
    "            lfhs[np.arange(ShortIntervalIndex[n,0]+1,ShortIntervalIndex[n,1]+1)] = Tig\n",
    "        dfx.lfhs = lfhs\n",
    "        df.loc[i].igAvUp = np.count_nonzero(lfhs < Tig)/len(lfhs)*100\n",
    "    else:\n",
    "        df.loc[i].igAvUp = 100\n",
    "    \n",
    "    # Longshore Sediment Transport potential\n",
    "    dfx['wavePo'] = waveHeightnearAlldir**2.5*np.sin(2*SinThetanear)\n",
    "    df['wavePo'].loc[i] = np.sum(np.abs(dfx.wavePo))/len(waveHeightnearAlldir)\n",
    "    \n",
    "    #Calculate the operability\n",
    "    dfy = pd.concat([dfx.wind >= Twind, dfx.swh_nr_rd >= Twave, dfx.lfhs >= Tig], axis=1)\n",
    "    persistence = dfy.sum(axis=1); persistence[-1]=0; persistence[0]=0\n",
    "    idx3 = np.argwhere(np.diff(persistence > 0)).flatten()\n",
    "    Events3 = idx3.reshape(len(idx3)//2,2)\n",
    "    if idx3.size != 0:\n",
    "        IntervalIndex = np.column_stack((Events3[:-1,1],Events3[1:,0]))\n",
    "        ShortIntervalIndex = IntervalIndex[Events3[1:,0]-Events3[:-1,1] <= 4]\n",
    "        for n in range(0,len(ShortIntervalIndex)):\n",
    "            persistence[np.arange(ShortIntervalIndex[n,0]+1,ShortIntervalIndex[n,1]+1)] = 4\n",
    "        dfx['persistence'] = persistence\n",
    "    #dfz = dfy[dfy.wind | dfy.swh_nr_rd | dfy.lfhs]\n",
    "    df['operability'].loc[i] = (len(dfy.index) - len(dfx.persistence.loc[~(dfx.persistence==0)]))/len(dfy.index)*100\n",
    "    \n",
    "    #Calculate the frequency (per year) shut down and restart again limits the uptime\n",
    "    freq = dfy.sum(axis=1); freq[-1]=0; freq[0]=0\n",
    "    if np.sum(freq) != 0:\n",
    "        idx2 = np.argwhere(np.diff(freq > 0)).flatten()\n",
    "        df['frequency'].loc[i] = len(idx2.reshape(len(idx2)//2,2))/40\n",
    "    \n",
    "    #Calculate the duration (per event) short periods could be caught up more quickly\n",
    "        Events2 = idx2.reshape(len(idx2)//2,2)\n",
    "        df['duration'].loc[i] = np.sum(Events2[:,1]-Events2[:,0])/len(Events2)\n",
    "    else: df['frequency'].loc[i] = 0; df['duration'].loc[i] = 0"
   ]
  },
  {
   "cell_type": "code",
   "execution_count": 6,
   "metadata": {},
   "outputs": [
    {
     "data": {
      "text/html": [
       "<div>\n",
       "<style scoped>\n",
       "    .dataframe tbody tr th:only-of-type {\n",
       "        vertical-align: middle;\n",
       "    }\n",
       "\n",
       "    .dataframe tbody tr th {\n",
       "        vertical-align: top;\n",
       "    }\n",
       "\n",
       "    .dataframe thead th {\n",
       "        text-align: right;\n",
       "    }\n",
       "</style>\n",
       "<table border=\"1\" class=\"dataframe\">\n",
       "  <thead>\n",
       "    <tr style=\"text-align: right;\">\n",
       "      <th></th>\n",
       "      <th>lon</th>\n",
       "      <th>lat</th>\n",
       "      <th>depth0</th>\n",
       "      <th>shoreN</th>\n",
       "      <th>tm</th>\n",
       "      <th>tp</th>\n",
       "      <th>Ks</th>\n",
       "      <th>Kr</th>\n",
       "      <th>wind50</th>\n",
       "      <th>wind95</th>\n",
       "      <th>...</th>\n",
       "      <th>ig50</th>\n",
       "      <th>ig95</th>\n",
       "      <th>igAv</th>\n",
       "      <th>wavePo</th>\n",
       "      <th>windAvUp</th>\n",
       "      <th>swhAvUp</th>\n",
       "      <th>igAvUp</th>\n",
       "      <th>operability</th>\n",
       "      <th>frequency</th>\n",
       "      <th>duration</th>\n",
       "    </tr>\n",
       "  </thead>\n",
       "  <tbody>\n",
       "    <tr>\n",
       "      <td>0</td>\n",
       "      <td>NaN</td>\n",
       "      <td>NaN</td>\n",
       "      <td>NaN</td>\n",
       "      <td>NaN</td>\n",
       "      <td>NaN</td>\n",
       "      <td>NaN</td>\n",
       "      <td>NaN</td>\n",
       "      <td>NaN</td>\n",
       "      <td>NaN</td>\n",
       "      <td>NaN</td>\n",
       "      <td>...</td>\n",
       "      <td>NaN</td>\n",
       "      <td>NaN</td>\n",
       "      <td>NaN</td>\n",
       "      <td>NaN</td>\n",
       "      <td>NaN</td>\n",
       "      <td>NaN</td>\n",
       "      <td>NaN</td>\n",
       "      <td>NaN</td>\n",
       "      <td>NaN</td>\n",
       "      <td>NaN</td>\n",
       "    </tr>\n",
       "    <tr>\n",
       "      <td>1</td>\n",
       "      <td>NaN</td>\n",
       "      <td>NaN</td>\n",
       "      <td>NaN</td>\n",
       "      <td>NaN</td>\n",
       "      <td>NaN</td>\n",
       "      <td>NaN</td>\n",
       "      <td>NaN</td>\n",
       "      <td>NaN</td>\n",
       "      <td>NaN</td>\n",
       "      <td>NaN</td>\n",
       "      <td>...</td>\n",
       "      <td>NaN</td>\n",
       "      <td>NaN</td>\n",
       "      <td>NaN</td>\n",
       "      <td>NaN</td>\n",
       "      <td>NaN</td>\n",
       "      <td>NaN</td>\n",
       "      <td>NaN</td>\n",
       "      <td>NaN</td>\n",
       "      <td>NaN</td>\n",
       "      <td>NaN</td>\n",
       "    </tr>\n",
       "    <tr>\n",
       "      <td>2</td>\n",
       "      <td>NaN</td>\n",
       "      <td>NaN</td>\n",
       "      <td>NaN</td>\n",
       "      <td>NaN</td>\n",
       "      <td>NaN</td>\n",
       "      <td>NaN</td>\n",
       "      <td>NaN</td>\n",
       "      <td>NaN</td>\n",
       "      <td>NaN</td>\n",
       "      <td>NaN</td>\n",
       "      <td>...</td>\n",
       "      <td>NaN</td>\n",
       "      <td>NaN</td>\n",
       "      <td>NaN</td>\n",
       "      <td>NaN</td>\n",
       "      <td>NaN</td>\n",
       "      <td>NaN</td>\n",
       "      <td>NaN</td>\n",
       "      <td>NaN</td>\n",
       "      <td>NaN</td>\n",
       "      <td>NaN</td>\n",
       "    </tr>\n",
       "    <tr>\n",
       "      <td>3</td>\n",
       "      <td>NaN</td>\n",
       "      <td>NaN</td>\n",
       "      <td>NaN</td>\n",
       "      <td>NaN</td>\n",
       "      <td>NaN</td>\n",
       "      <td>NaN</td>\n",
       "      <td>NaN</td>\n",
       "      <td>NaN</td>\n",
       "      <td>NaN</td>\n",
       "      <td>NaN</td>\n",
       "      <td>...</td>\n",
       "      <td>NaN</td>\n",
       "      <td>NaN</td>\n",
       "      <td>NaN</td>\n",
       "      <td>NaN</td>\n",
       "      <td>NaN</td>\n",
       "      <td>NaN</td>\n",
       "      <td>NaN</td>\n",
       "      <td>NaN</td>\n",
       "      <td>NaN</td>\n",
       "      <td>NaN</td>\n",
       "    </tr>\n",
       "    <tr>\n",
       "      <td>4</td>\n",
       "      <td>NaN</td>\n",
       "      <td>NaN</td>\n",
       "      <td>NaN</td>\n",
       "      <td>NaN</td>\n",
       "      <td>NaN</td>\n",
       "      <td>NaN</td>\n",
       "      <td>NaN</td>\n",
       "      <td>NaN</td>\n",
       "      <td>NaN</td>\n",
       "      <td>NaN</td>\n",
       "      <td>...</td>\n",
       "      <td>NaN</td>\n",
       "      <td>NaN</td>\n",
       "      <td>NaN</td>\n",
       "      <td>NaN</td>\n",
       "      <td>NaN</td>\n",
       "      <td>NaN</td>\n",
       "      <td>NaN</td>\n",
       "      <td>NaN</td>\n",
       "      <td>NaN</td>\n",
       "      <td>NaN</td>\n",
       "    </tr>\n",
       "    <tr>\n",
       "      <td>...</td>\n",
       "      <td>...</td>\n",
       "      <td>...</td>\n",
       "      <td>...</td>\n",
       "      <td>...</td>\n",
       "      <td>...</td>\n",
       "      <td>...</td>\n",
       "      <td>...</td>\n",
       "      <td>...</td>\n",
       "      <td>...</td>\n",
       "      <td>...</td>\n",
       "      <td>...</td>\n",
       "      <td>...</td>\n",
       "      <td>...</td>\n",
       "      <td>...</td>\n",
       "      <td>...</td>\n",
       "      <td>...</td>\n",
       "      <td>...</td>\n",
       "      <td>...</td>\n",
       "      <td>...</td>\n",
       "      <td>...</td>\n",
       "      <td>...</td>\n",
       "    </tr>\n",
       "    <tr>\n",
       "      <td>4555</td>\n",
       "      <td>NaN</td>\n",
       "      <td>NaN</td>\n",
       "      <td>NaN</td>\n",
       "      <td>NaN</td>\n",
       "      <td>NaN</td>\n",
       "      <td>NaN</td>\n",
       "      <td>NaN</td>\n",
       "      <td>NaN</td>\n",
       "      <td>NaN</td>\n",
       "      <td>NaN</td>\n",
       "      <td>...</td>\n",
       "      <td>NaN</td>\n",
       "      <td>NaN</td>\n",
       "      <td>NaN</td>\n",
       "      <td>NaN</td>\n",
       "      <td>NaN</td>\n",
       "      <td>NaN</td>\n",
       "      <td>NaN</td>\n",
       "      <td>NaN</td>\n",
       "      <td>NaN</td>\n",
       "      <td>NaN</td>\n",
       "    </tr>\n",
       "    <tr>\n",
       "      <td>4556</td>\n",
       "      <td>NaN</td>\n",
       "      <td>NaN</td>\n",
       "      <td>NaN</td>\n",
       "      <td>NaN</td>\n",
       "      <td>NaN</td>\n",
       "      <td>NaN</td>\n",
       "      <td>NaN</td>\n",
       "      <td>NaN</td>\n",
       "      <td>NaN</td>\n",
       "      <td>NaN</td>\n",
       "      <td>...</td>\n",
       "      <td>NaN</td>\n",
       "      <td>NaN</td>\n",
       "      <td>NaN</td>\n",
       "      <td>NaN</td>\n",
       "      <td>NaN</td>\n",
       "      <td>NaN</td>\n",
       "      <td>NaN</td>\n",
       "      <td>NaN</td>\n",
       "      <td>NaN</td>\n",
       "      <td>NaN</td>\n",
       "    </tr>\n",
       "    <tr>\n",
       "      <td>4557</td>\n",
       "      <td>NaN</td>\n",
       "      <td>NaN</td>\n",
       "      <td>NaN</td>\n",
       "      <td>NaN</td>\n",
       "      <td>NaN</td>\n",
       "      <td>NaN</td>\n",
       "      <td>NaN</td>\n",
       "      <td>NaN</td>\n",
       "      <td>NaN</td>\n",
       "      <td>NaN</td>\n",
       "      <td>...</td>\n",
       "      <td>NaN</td>\n",
       "      <td>NaN</td>\n",
       "      <td>NaN</td>\n",
       "      <td>NaN</td>\n",
       "      <td>NaN</td>\n",
       "      <td>NaN</td>\n",
       "      <td>NaN</td>\n",
       "      <td>NaN</td>\n",
       "      <td>NaN</td>\n",
       "      <td>NaN</td>\n",
       "    </tr>\n",
       "    <tr>\n",
       "      <td>4558</td>\n",
       "      <td>NaN</td>\n",
       "      <td>NaN</td>\n",
       "      <td>NaN</td>\n",
       "      <td>NaN</td>\n",
       "      <td>NaN</td>\n",
       "      <td>NaN</td>\n",
       "      <td>NaN</td>\n",
       "      <td>NaN</td>\n",
       "      <td>NaN</td>\n",
       "      <td>NaN</td>\n",
       "      <td>...</td>\n",
       "      <td>NaN</td>\n",
       "      <td>NaN</td>\n",
       "      <td>NaN</td>\n",
       "      <td>NaN</td>\n",
       "      <td>NaN</td>\n",
       "      <td>NaN</td>\n",
       "      <td>NaN</td>\n",
       "      <td>NaN</td>\n",
       "      <td>NaN</td>\n",
       "      <td>NaN</td>\n",
       "    </tr>\n",
       "    <tr>\n",
       "      <td>4559</td>\n",
       "      <td>NaN</td>\n",
       "      <td>NaN</td>\n",
       "      <td>NaN</td>\n",
       "      <td>NaN</td>\n",
       "      <td>NaN</td>\n",
       "      <td>NaN</td>\n",
       "      <td>NaN</td>\n",
       "      <td>NaN</td>\n",
       "      <td>NaN</td>\n",
       "      <td>NaN</td>\n",
       "      <td>...</td>\n",
       "      <td>NaN</td>\n",
       "      <td>NaN</td>\n",
       "      <td>NaN</td>\n",
       "      <td>NaN</td>\n",
       "      <td>NaN</td>\n",
       "      <td>NaN</td>\n",
       "      <td>NaN</td>\n",
       "      <td>NaN</td>\n",
       "      <td>NaN</td>\n",
       "      <td>NaN</td>\n",
       "    </tr>\n",
       "  </tbody>\n",
       "</table>\n",
       "<p>4560 rows × 24 columns</p>\n",
       "</div>"
      ],
      "text/plain": [
       "      lon  lat depth0 shoreN   tm   tp   Ks   Kr wind50 wind95  ... ig50 ig95  \\\n",
       "0     NaN  NaN    NaN    NaN  NaN  NaN  NaN  NaN    NaN    NaN  ...  NaN  NaN   \n",
       "1     NaN  NaN    NaN    NaN  NaN  NaN  NaN  NaN    NaN    NaN  ...  NaN  NaN   \n",
       "2     NaN  NaN    NaN    NaN  NaN  NaN  NaN  NaN    NaN    NaN  ...  NaN  NaN   \n",
       "3     NaN  NaN    NaN    NaN  NaN  NaN  NaN  NaN    NaN    NaN  ...  NaN  NaN   \n",
       "4     NaN  NaN    NaN    NaN  NaN  NaN  NaN  NaN    NaN    NaN  ...  NaN  NaN   \n",
       "...   ...  ...    ...    ...  ...  ...  ...  ...    ...    ...  ...  ...  ...   \n",
       "4555  NaN  NaN    NaN    NaN  NaN  NaN  NaN  NaN    NaN    NaN  ...  NaN  NaN   \n",
       "4556  NaN  NaN    NaN    NaN  NaN  NaN  NaN  NaN    NaN    NaN  ...  NaN  NaN   \n",
       "4557  NaN  NaN    NaN    NaN  NaN  NaN  NaN  NaN    NaN    NaN  ...  NaN  NaN   \n",
       "4558  NaN  NaN    NaN    NaN  NaN  NaN  NaN  NaN    NaN    NaN  ...  NaN  NaN   \n",
       "4559  NaN  NaN    NaN    NaN  NaN  NaN  NaN  NaN    NaN    NaN  ...  NaN  NaN   \n",
       "\n",
       "     igAv wavePo windAvUp swhAvUp igAvUp operability frequency duration  \n",
       "0     NaN    NaN      NaN     NaN    NaN         NaN       NaN      NaN  \n",
       "1     NaN    NaN      NaN     NaN    NaN         NaN       NaN      NaN  \n",
       "2     NaN    NaN      NaN     NaN    NaN         NaN       NaN      NaN  \n",
       "3     NaN    NaN      NaN     NaN    NaN         NaN       NaN      NaN  \n",
       "4     NaN    NaN      NaN     NaN    NaN         NaN       NaN      NaN  \n",
       "...   ...    ...      ...     ...    ...         ...       ...      ...  \n",
       "4555  NaN    NaN      NaN     NaN    NaN         NaN       NaN      NaN  \n",
       "4556  NaN    NaN      NaN     NaN    NaN         NaN       NaN      NaN  \n",
       "4557  NaN    NaN      NaN     NaN    NaN         NaN       NaN      NaN  \n",
       "4558  NaN    NaN      NaN     NaN    NaN         NaN       NaN      NaN  \n",
       "4559  NaN    NaN      NaN     NaN    NaN         NaN       NaN      NaN  \n",
       "\n",
       "[4560 rows x 24 columns]"
      ]
     },
     "execution_count": 6,
     "metadata": {},
     "output_type": "execute_result"
    }
   ],
   "source": [
    "df"
   ]
  },
  {
   "cell_type": "code",
   "execution_count": 8,
   "metadata": {},
   "outputs": [
    {
     "data": {
      "text/plain": [
       "lon                  -55\n",
       "lat                   50\n",
       "depth0           230.047\n",
       "shoreN           341.071\n",
       "tm                7.0598\n",
       "tp               8.83888\n",
       "Ks              0.948789\n",
       "Kr              0.929288\n",
       "wind50           7.34566\n",
       "wind95           14.0094\n",
       "windAv           94.4867\n",
       "swh50            1.32565\n",
       "swh95            3.23271\n",
       "swhAv             83.114\n",
       "ig50             0.01655\n",
       "ig95           0.0927885\n",
       "igAv             84.7036\n",
       "wavePo           3.99112\n",
       "windAvUp         94.2584\n",
       "swhAvUp          82.9794\n",
       "igAvUp           84.5304\n",
       "operability      79.7031\n",
       "frequency         52.275\n",
       "duration         27.0646\n",
       "Name: 1100, dtype: object"
      ]
     },
     "execution_count": 8,
     "metadata": {},
     "output_type": "execute_result"
    }
   ],
   "source": [
    "df.loc[1100]"
   ]
  },
  {
   "cell_type": "code",
   "execution_count": 143,
   "metadata": {},
   "outputs": [
    {
     "data": {
      "text/plain": [
       "77788"
      ]
     },
     "execution_count": 143,
     "metadata": {},
     "output_type": "execute_result"
    }
   ],
   "source": [
    "len(dfz.index)"
   ]
  },
  {
   "cell_type": "code",
   "execution_count": 150,
   "metadata": {},
   "outputs": [],
   "source": [
    "persistence = dfy.sum(axis=1); persistence[-1]=0; persistence[0]=0\n",
    "idx3 = np.argwhere(np.diff(persistence > 0)).flatten()\n",
    "Events3 = idx3.reshape(len(idx3)//2,2)\n",
    "if idx3.size != 0:\n",
    "        IntervalIndex = np.column_stack((Events3[:-1,1],Events3[1:,0]))\n",
    "        ShortIntervalIndex = IntervalIndex[Events3[1:,0]-Events3[:-1,1] <= 4]\n",
    "        for n in range(0,len(ShortIntervalIndex)):\n",
    "            persistence[np.arange(ShortIntervalIndex[n,0]+1,ShortIntervalIndex[n,1]+1)] = 4\n",
    "        dfx['persistence'] = persistence\n",
    "len(dfx.persistence.loc[~(dfx.persistence==0)])"
   ]
  },
  {
   "cell_type": "code",
   "execution_count": 152,
   "metadata": {},
   "outputs": [
    {
     "data": {
      "text/plain": [
       "77879"
      ]
     },
     "execution_count": 152,
     "metadata": {},
     "output_type": "execute_result"
    }
   ],
   "source": [
    "len(dfx.persistence.loc[~(dfx.persistence==0)])"
   ]
  },
  {
   "cell_type": "code",
   "execution_count": 148,
   "metadata": {},
   "outputs": [
    {
     "data": {
      "text/plain": [
       "91"
      ]
     },
     "execution_count": 148,
     "metadata": {},
     "output_type": "execute_result"
    }
   ],
   "source": [
    "len(dfu.loc[~(dfu==0)])-len(dfz.index)"
   ]
  },
  {
   "cell_type": "code",
   "execution_count": 149,
   "metadata": {},
   "outputs": [
    {
     "data": {
      "text/plain": [
       "0.00026"
      ]
     },
     "execution_count": 149,
     "metadata": {},
     "output_type": "execute_result"
    }
   ],
   "source": [
    "91/350000"
   ]
  },
  {
   "cell_type": "code",
   "execution_count": 73,
   "metadata": {},
   "outputs": [
    {
     "data": {
      "text/plain": [
       "time\n",
       "1979-01-01 01:00:00    3\n",
       "1979-01-01 02:00:00    2\n",
       "dtype: int64"
      ]
     },
     "execution_count": 73,
     "metadata": {},
     "output_type": "execute_result"
    }
   ],
   "source": [
    "persistence[np.arange(ShortIntervalIndex[n,0]+1,ShortIntervalIndex[n,1]+1)]"
   ]
  },
  {
   "cell_type": "code",
   "execution_count": 20,
   "metadata": {},
   "outputs": [
    {
     "data": {
      "text/plain": [
       "109995"
      ]
     },
     "execution_count": 20,
     "metadata": {},
     "output_type": "execute_result"
    }
   ],
   "source": [
    "idx = np.argwhere(np.diff(np.sign(Tig - lfhs))).flatten()\n",
    "Events = idx.reshape(len(idx)//2,2)"
   ]
  },
  {
   "cell_type": "code",
   "execution_count": 17,
   "metadata": {},
   "outputs": [
    {
     "data": {
      "text/html": [
       "<div>\n",
       "<style scoped>\n",
       "    .dataframe tbody tr th:only-of-type {\n",
       "        vertical-align: middle;\n",
       "    }\n",
       "\n",
       "    .dataframe tbody tr th {\n",
       "        vertical-align: top;\n",
       "    }\n",
       "\n",
       "    .dataframe thead th {\n",
       "        text-align: right;\n",
       "    }\n",
       "</style>\n",
       "<table border=\"1\" class=\"dataframe\">\n",
       "  <thead>\n",
       "    <tr style=\"text-align: right;\">\n",
       "      <th></th>\n",
       "      <th>wind</th>\n",
       "      <th>swh_nr_rd</th>\n",
       "      <th>lfhs</th>\n",
       "    </tr>\n",
       "    <tr>\n",
       "      <th>time</th>\n",
       "      <th></th>\n",
       "      <th></th>\n",
       "      <th></th>\n",
       "    </tr>\n",
       "  </thead>\n",
       "  <tbody>\n",
       "    <tr>\n",
       "      <td>1979-01-01 01:00:00</td>\n",
       "      <td>True</td>\n",
       "      <td>True</td>\n",
       "      <td>True</td>\n",
       "    </tr>\n",
       "    <tr>\n",
       "      <td>1979-01-01 02:00:00</td>\n",
       "      <td>True</td>\n",
       "      <td>True</td>\n",
       "      <td>True</td>\n",
       "    </tr>\n",
       "    <tr>\n",
       "      <td>1979-01-01 03:00:00</td>\n",
       "      <td>True</td>\n",
       "      <td>True</td>\n",
       "      <td>True</td>\n",
       "    </tr>\n",
       "    <tr>\n",
       "      <td>1979-01-01 04:00:00</td>\n",
       "      <td>True</td>\n",
       "      <td>True</td>\n",
       "      <td>True</td>\n",
       "    </tr>\n",
       "    <tr>\n",
       "      <td>1979-01-01 05:00:00</td>\n",
       "      <td>True</td>\n",
       "      <td>True</td>\n",
       "      <td>True</td>\n",
       "    </tr>\n",
       "    <tr>\n",
       "      <td>...</td>\n",
       "      <td>...</td>\n",
       "      <td>...</td>\n",
       "      <td>...</td>\n",
       "    </tr>\n",
       "    <tr>\n",
       "      <td>2018-12-31 18:00:00</td>\n",
       "      <td>False</td>\n",
       "      <td>True</td>\n",
       "      <td>True</td>\n",
       "    </tr>\n",
       "    <tr>\n",
       "      <td>2018-12-31 19:00:00</td>\n",
       "      <td>False</td>\n",
       "      <td>True</td>\n",
       "      <td>True</td>\n",
       "    </tr>\n",
       "    <tr>\n",
       "      <td>2018-12-31 20:00:00</td>\n",
       "      <td>False</td>\n",
       "      <td>True</td>\n",
       "      <td>True</td>\n",
       "    </tr>\n",
       "    <tr>\n",
       "      <td>2018-12-31 21:00:00</td>\n",
       "      <td>False</td>\n",
       "      <td>True</td>\n",
       "      <td>True</td>\n",
       "    </tr>\n",
       "    <tr>\n",
       "      <td>2018-12-31 22:00:00</td>\n",
       "      <td>False</td>\n",
       "      <td>True</td>\n",
       "      <td>True</td>\n",
       "    </tr>\n",
       "  </tbody>\n",
       "</table>\n",
       "<p>109995 rows × 3 columns</p>\n",
       "</div>"
      ],
      "text/plain": [
       "                      wind  swh_nr_rd  lfhs\n",
       "time                                       \n",
       "1979-01-01 01:00:00   True       True  True\n",
       "1979-01-01 02:00:00   True       True  True\n",
       "1979-01-01 03:00:00   True       True  True\n",
       "1979-01-01 04:00:00   True       True  True\n",
       "1979-01-01 05:00:00   True       True  True\n",
       "...                    ...        ...   ...\n",
       "2018-12-31 18:00:00  False       True  True\n",
       "2018-12-31 19:00:00  False       True  True\n",
       "2018-12-31 20:00:00  False       True  True\n",
       "2018-12-31 21:00:00  False       True  True\n",
       "2018-12-31 22:00:00  False       True  True\n",
       "\n",
       "[109995 rows x 3 columns]"
      ]
     },
     "execution_count": 17,
     "metadata": {},
     "output_type": "execute_result"
    }
   ],
   "source": [
    "dfz"
   ]
  },
  {
   "cell_type": "code",
   "execution_count": 12,
   "metadata": {},
   "outputs": [
    {
     "data": {
      "text/plain": [
       "[<matplotlib.lines.Line2D at 0x1dde71d5288>,\n",
       " <matplotlib.lines.Line2D at 0x1dde6601488>,\n",
       " <matplotlib.lines.Line2D at 0x1dde6601748>]"
      ]
     },
     "execution_count": 12,
     "metadata": {},
     "output_type": "execute_result"
    },
    {
     "data": {
      "image/png": "[encoded data removed]",
      "text/plain": [
       "<Figure size 432x288 with 1 Axes>"
      ]
     },
     "metadata": {
      "needs_background": "light"
     },
     "output_type": "display_data"
    }
   ],
   "source": [
    "plt.plot(dfy[1300:1800])"
   ]
  },
  {
   "cell_type": "code",
   "execution_count": 11,
   "metadata": {},
   "outputs": [],
   "source": [
    "df.to_excel('output_run20_4560locs_d20_w138_s_2_i_005.xlsx')"
   ]
  },
  {
   "cell_type": "code",
   "execution_count": 41,
   "metadata": {},
   "outputs": [
    {
     "data": {
      "text/plain": [
       "time\n",
       "1979-01-01 00:00:00    0.718004\n",
       "1979-01-01 01:00:00    0.719360\n",
       "1979-01-01 02:00:00    0.721527\n",
       "1979-01-01 03:00:00    0.723925\n",
       "1979-01-01 04:00:00    0.726338\n",
       "                         ...   \n",
       "2018-12-31 19:00:00    0.702513\n",
       "2018-12-31 20:00:00    0.704877\n",
       "2018-12-31 21:00:00    0.707997\n",
       "2018-12-31 22:00:00    0.710903\n",
       "2018-12-31 23:00:00    0.715135\n",
       "Name: mwp, Length: 350640, dtype: float64"
      ]
     },
     "execution_count": 41,
     "metadata": {},
     "output_type": "execute_result"
    }
   ],
   "source": [
    "#Cgroupnear = nnear * waveVelocitynear\n",
    "nnear = 0.5 * (1 + (2 * waveNumbernear * 20) / np.sinh(2 * waveNumbernear * 20))\n",
    "nnear"
   ]
  },
  {
   "cell_type": "code",
   "execution_count": 34,
   "metadata": {
    "scrolled": true
   },
   "outputs": [
    {
     "data": {
      "text/plain": [
       "time\n",
       "1979-01-01 00:00:00    10.811790\n",
       "1979-01-01 01:00:00    10.820829\n",
       "1979-01-01 02:00:00    10.835183\n",
       "1979-01-01 03:00:00    10.850941\n",
       "1979-01-01 04:00:00    10.866672\n",
       "                         ...    \n",
       "2018-12-31 19:00:00    10.705351\n",
       "2018-12-31 20:00:00    10.721984\n",
       "2018-12-31 21:00:00    10.743719\n",
       "2018-12-31 22:00:00    10.763739\n",
       "2018-12-31 23:00:00    10.792525\n",
       "Name: mwp, Length: 350640, dtype: float64"
      ]
     },
     "execution_count": 34,
     "metadata": {},
     "output_type": "execute_result"
    }
   ],
   "source": [
    "Cnear = ((grav/k1) * np.tanh(k1 * 15))**0.5\n",
    "Cnear"
   ]
  },
  {
   "cell_type": "code",
   "execution_count": 36,
   "metadata": {},
   "outputs": [
    {
     "data": {
      "text/plain": [
       "time\n",
       "1979-01-01 00:00:00    11.659036\n",
       "1979-01-01 01:00:00    11.673114\n",
       "1979-01-01 02:00:00    11.695513\n",
       "1979-01-01 03:00:00    11.720170\n",
       "1979-01-01 04:00:00    11.744858\n",
       "                         ...    \n",
       "2018-12-31 19:00:00    11.494987\n",
       "2018-12-31 20:00:00    11.520418\n",
       "2018-12-31 21:00:00    11.553764\n",
       "2018-12-31 22:00:00    11.584592\n",
       "2018-12-31 23:00:00    11.629112\n",
       "Name: mwp, Length: 350640, dtype: float64"
      ]
     },
     "execution_count": 36,
     "metadata": {},
     "output_type": "execute_result"
    }
   ],
   "source": [
    "Cnear = ((grav/k1) * np.tanh(k1 * 20))**0.5\n",
    "Cnear"
   ]
  },
  {
   "cell_type": "code",
   "execution_count": 19,
   "metadata": {},
   "outputs": [
    {
     "data": {
      "text/plain": [
       "time\n",
       "1979-01-01 00:00:00    10.811790\n",
       "1979-01-01 01:00:00    10.820829\n",
       "1979-01-01 02:00:00    10.835183\n",
       "1979-01-01 03:00:00    10.850941\n",
       "1979-01-01 04:00:00    10.866672\n",
       "                         ...    \n",
       "2018-12-31 19:00:00    10.705351\n",
       "2018-12-31 20:00:00    10.721984\n",
       "2018-12-31 21:00:00    10.743719\n",
       "2018-12-31 22:00:00    10.763739\n",
       "2018-12-31 23:00:00    10.792525\n",
       "Name: mwp, Length: 350640, dtype: float64"
      ]
     },
     "execution_count": 19,
     "metadata": {},
     "output_type": "execute_result"
    }
   ],
   "source": [
    "Cnear"
   ]
  },
  {
   "cell_type": "code",
   "execution_count": 7,
   "metadata": {},
   "outputs": [
    {
     "data": {
      "text/plain": [
       "109.04953630153253"
      ]
     },
     "execution_count": 7,
     "metadata": {},
     "output_type": "execute_result"
    }
   ],
   "source": [
    "wavePeriod = 10\n",
    "depthNearshore = 15\n",
    "grav = 9.81\n",
    "w3 = (2 * np.pi / wavePeriod)**2 * depthNearshore / grav\n",
    "q1 = w3 / (1 - np.exp(-(w3**(5/4))))**(2/5)\n",
    "for m in range(2):\n",
    "    thq = np.tanh(q1)\n",
    "    thq2 = 1 - thq**2\n",
    "    a = (1 - q1 * thq)*thq2\n",
    "    b = thq + q1 *thq2\n",
    "    c = q1 * thq - w3\n",
    "    arg = b**2 - (4*a*c)\n",
    "    arg = (-b + np.sqrt(arg)) / (2 * a)\n",
    "    iq = np.abs(a * c) < (10**-8 * b**2)\n",
    "    arg = - c / b\n",
    "    q1 = q1 + arg\n",
    "k1 = q1 / depthNearshore\n",
    "Lnear = 2 * np.pi / k1\n",
    "Lnear"
   ]
  },
  {
   "cell_type": "code",
   "execution_count": 8,
   "metadata": {},
   "outputs": [
    {
     "data": {
      "text/plain": [
       "0.13755216673754161"
      ]
     },
     "execution_count": 8,
     "metadata": {},
     "output_type": "execute_result"
    }
   ],
   "source": [
    "depthNearshore/Lnear"
   ]
  },
  {
   "cell_type": "code",
   "execution_count": 23,
   "metadata": {},
   "outputs": [
    {
     "data": {
      "text/plain": [
       "15"
      ]
     },
     "execution_count": 23,
     "metadata": {},
     "output_type": "execute_result"
    }
   ],
   "source": [
    "depthNS\n"
   ]
  },
  {
   "cell_type": "code",
   "execution_count": 24,
   "metadata": {},
   "outputs": [
    {
     "data": {
      "text/plain": [
       "time\n",
       "1979-01-01 00:00:00    145.064011\n",
       "1979-01-01 01:00:00    146.069443\n",
       "1979-01-01 02:00:00    147.694469\n",
       "1979-01-01 03:00:00    149.519961\n",
       "1979-01-01 04:00:00    151.387472\n",
       "                          ...    \n",
       "2018-12-31 19:00:00    134.175347\n",
       "2018-12-31 20:00:00    135.769538\n",
       "2018-12-31 21:00:00    137.909758\n",
       "2018-12-31 22:00:00    139.940687\n",
       "2018-12-31 23:00:00    142.966171\n",
       "Name: mwp, Length: 350640, dtype: float64"
      ]
     },
     "execution_count": 24,
     "metadata": {},
     "output_type": "execute_result"
    }
   ],
   "source": [
    "Ldeep"
   ]
  },
  {
   "cell_type": "code",
   "execution_count": 25,
   "metadata": {},
   "outputs": [
    {
     "data": {
      "text/plain": [
       "time\n",
       "1979-01-01 00:00:00    104.215716\n",
       "1979-01-01 01:00:00    104.663695\n",
       "1979-01-01 02:00:00    105.383900\n",
       "1979-01-01 03:00:00    106.187390\n",
       "1979-01-01 04:00:00    107.003408\n",
       "                          ...    \n",
       "2018-12-31 19:00:00     99.241390\n",
       "2018-12-31 20:00:00     99.984317\n",
       "2018-12-31 21:00:00    100.973574\n",
       "2018-12-31 22:00:00    101.903899\n",
       "2018-12-31 23:00:00    103.275050\n",
       "Name: mwp, Length: 350640, dtype: float64"
      ]
     },
     "execution_count": 25,
     "metadata": {},
     "output_type": "execute_result"
    }
   ],
   "source": [
    "Lnear"
   ]
  },
  {
   "cell_type": "code",
   "execution_count": 27,
   "metadata": {},
   "outputs": [
    {
     "data": {
      "text/plain": [
       "time\n",
       "1979-01-01 00:00:00    0.143932\n",
       "1979-01-01 01:00:00    0.143316\n",
       "1979-01-01 02:00:00    0.142337\n",
       "1979-01-01 03:00:00    0.141260\n",
       "1979-01-01 04:00:00    0.140182\n",
       "                         ...   \n",
       "2018-12-31 19:00:00    0.151147\n",
       "2018-12-31 20:00:00    0.150024\n",
       "2018-12-31 21:00:00    0.148554\n",
       "2018-12-31 22:00:00    0.147198\n",
       "2018-12-31 23:00:00    0.145243\n",
       "Name: mwp, Length: 350640, dtype: float64"
      ]
     },
     "execution_count": 27,
     "metadata": {},
     "output_type": "execute_result"
    }
   ],
   "source": [
    "depthNS/Lnear"
   ]
  },
  {
   "cell_type": "code",
   "execution_count": null,
   "metadata": {},
   "outputs": [],
   "source": []
  }
 ],
 "metadata": {
  "kernelspec": {
   "display_name": "Python 3",
   "language": "python",
   "name": "python3"
  },
  "language_info": {
   "codemirror_mode": {
    "name": "ipython",
    "version": 3
   },
   "file_extension": ".py",
   "mimetype": "text/x-python",
   "name": "python",
   "nbconvert_exporter": "python",
   "pygments_lexer": "ipython3",
   "version": "3.7.4"
  }
 },
 "nbformat": 4,
 "nbformat_minor": 2
}
